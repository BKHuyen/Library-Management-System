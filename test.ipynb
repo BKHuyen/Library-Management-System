{
 "cells": [
  {
   "cell_type": "code",
   "execution_count": null,
   "metadata": {},
   "outputs": [],
   "source": [
    "<li class=\"nav-item\">\n",
    "    <a class=\"nav-link\" aria-current=\"page\" href=\"{% url 'sub_category-page' %}\">Sub Categories</a>\n",
    "</li>\n",
    "\n",
    "<dt>Sub Category</dt>\n",
    "<dd class=\"ps-4\">{{book.sub_category.name}}</dd>"
   ]
  },
  {
   "cell_type": "code",
   "execution_count": null,
   "metadata": {},
   "outputs": [],
   "source": [
    "migrations.CreateModel(\n",
    "            name='SubCategory',\n",
    "            fields=[\n",
    "                ('id', models.BigAutoField(auto_created=True, primary_key=True, serialize=False, verbose_name='ID')),\n",
    "                ('name', models.CharField(max_length=250)),\n",
    "                ('description', models.TextField(blank=True, null=True)),\n",
    "                ('status', models.CharField(choices=[('1', 'Active'), ('2', 'Inactive')], default=1, max_length=2)),\n",
    "                ('delete_flag', models.IntegerField(default=0)),\n",
    "                ('date_added', models.DateTimeField(default=django.utils.timezone.now)),\n",
    "                ('date_created', models.DateTimeField(auto_now=True)),\n",
    "                ('category', models.ForeignKey(on_delete=django.db.models.deletion.CASCADE, to='lmsApp.category')),\n",
    "            ],\n",
    "            options={\n",
    "                'verbose_name_plural': 'List of Categories',\n",
    "            },\n",
    "        ),"
   ]
  }
 ],
 "metadata": {
  "language_info": {
   "name": "python"
  }
 },
 "nbformat": 4,
 "nbformat_minor": 2
}
